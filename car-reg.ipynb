{
 "cells": [
  {
   "cell_type": "code",
   "execution_count": null,
   "id": "d443ca0d-8626-46b9-a9f7-5a75581421ca",
   "metadata": {},
   "outputs": [],
   "source": [
    "import numpy as np\n",
    "import pandas as pd\n",
    "from sklearn.preprocessing import LabelEncoder# creating initial dataframe#"
   ]
  },
  {
   "cell_type": "code",
   "execution_count": null,
   "id": "ce1aba25-af0b-4974-89e0-6132d6fd9865",
   "metadata": {},
   "outputs": [],
   "source": [
    "data=pd.read_csv(\"./CarPrice_Assignment.csv\")"
   ]
  },
  {
   "cell_type": "code",
   "execution_count": null,
   "id": "fed36454-3550-4b6b-8cb1-c88ce8376d56",
   "metadata": {},
   "outputs": [],
   "source": [
    "data=data.drop(\"car_ID\",axis=1)"
   ]
  },
  {
   "cell_type": "code",
   "execution_count": null,
   "id": "ce6846e9-035d-46c4-bf6a-c194cb17f2c6",
   "metadata": {},
   "outputs": [],
   "source": [
    "data.dtypes"
   ]
  },
  {
   "cell_type": "code",
   "execution_count": null,
   "id": "ae60c29f-d8f4-46e0-96c5-c013ddf40c1b",
   "metadata": {},
   "outputs": [],
   "source": [
    "data=data.apply(lambda x: x.astype(\"category\") if x.dtype==\"object\" else x)\n",
    "data.dtypes"
   ]
  },
  {
   "cell_type": "code",
   "execution_count": null,
   "id": "fa662e66-36cf-4be1-9e64-abc648da1938",
   "metadata": {},
   "outputs": [],
   "source": [
    "data.describe(include=['category']).T"
   ]
  },
  {
   "cell_type": "code",
   "execution_count": null,
   "id": "06de520c-8471-4d25-904d-3e25f2ac8f63",
   "metadata": {},
   "outputs": [],
   "source": [
    "labelencoder = LabelEncoder()\n",
    "data2=pd.DataFrame()\n",
    "\n",
    "#data=data.apply(lambda x: labelencoder.fit_transform(x) if x.dtype==\"category\" else x)\n",
    "\n",
    "#for x in data.columns:\n",
    " #   if data[x].dtype==\"category\":\n",
    "  #      data[x]=labelencoder.fit_transform(data[x])"
   ]
  },
  {
   "cell_type": "code",
   "execution_count": null,
   "id": "1c46a9e3-e5fc-48db-bff0-fef1496c67a3",
   "metadata": {},
   "outputs": [],
   "source": [
    "#data.select_dtypes(include=[\"category\"])\n",
    "cutColumns=data.select_dtypes(include=[\"category\"]).columns\n",
    "cutColumns\n",
    "index=0\n",
    "for x in data.columns:\n",
    "    for y in cutColumns:\n",
    "        if x==y:\n",
    "            data[x]=labelencoder.fit_transform(data[x])"
   ]
  },
  {
   "cell_type": "code",
   "execution_count": null,
   "id": "e5b287f3-104c-4eb0-8f10-8377c416da0f",
   "metadata": {},
   "outputs": [],
   "source": [
    "data.isnull().sum()"
   ]
  },
  {
   "cell_type": "code",
   "execution_count": null,
   "id": "d43d3550-a45e-4590-81cd-65657a52653a",
   "metadata": {},
   "outputs": [],
   "source": [
    "Y=data[data.columns[24]]\n",
    "X=data[data.columns[0:24]]\n",
    "\n",
    "from sklearn.model_selection import train_test_split\n",
    "X_train, X_test, Y_train, Y_test = train_test_split(X, Y, test_size = 0.25, random_state = 0)\n"
   ]
  },
  {
   "cell_type": "code",
   "execution_count": null,
   "id": "1e6f87db-1b70-46b8-8305-2583d30c9bcf",
   "metadata": {},
   "outputs": [],
   "source": [
    "data.shape"
   ]
  },
  {
   "cell_type": "code",
   "execution_count": null,
   "id": "f3369a70-50dd-4712-a8bc-f6788962797b",
   "metadata": {},
   "outputs": [],
   "source": [
    "from sklearn.linear_model import LinearRegression\n",
    "lm = LinearRegression()\n",
    "lm.fit(X_train,Y_train)"
   ]
  },
  {
   "cell_type": "code",
   "execution_count": null,
   "id": "fbd23d4b-96a8-464d-9a05-e06c17b19384",
   "metadata": {},
   "outputs": [],
   "source": [
    "Ypred=lm.predict(X_test)\n",
    "Ypred"
   ]
  },
  {
   "cell_type": "code",
   "execution_count": null,
   "id": "ccb01e2b-8cba-4dfe-9f32-c51554089efe",
   "metadata": {},
   "outputs": [],
   "source": [
    "from sklearn.metrics import r2_score\n",
    "r2_score(Y_test, Ypred)"
   ]
  },
  {
   "cell_type": "code",
   "execution_count": null,
   "id": "189a22e4-b287-4470-9fa4-95e4e1bd369c",
   "metadata": {},
   "outputs": [],
   "source": [
    "X_test.iloc[0]"
   ]
  },
  {
   "cell_type": "code",
   "execution_count": null,
   "id": "f56ce273-3097-4f10-b5bf-9acd42ff8146",
   "metadata": {},
   "outputs": [],
   "source": [
    "a=X_test\n",
    "#lm.predict(a)\n",
    "a\n",
    "X_train.shape"
   ]
  },
  {
   "cell_type": "code",
   "execution_count": null,
   "id": "785a7d3e-c61e-472b-94bb-65ba4d87dea8",
   "metadata": {},
   "outputs": [],
   "source": [
    "from sklearn.ensemble import RandomForestRegressor\n",
    "regressor = RandomForestRegressor(n_estimators = 500, random_state = 0)\n",
    "regressor.fit(X_train, Y_train)"
   ]
  },
  {
   "cell_type": "code",
   "execution_count": null,
   "id": "5eb40945-5047-4ca4-aae0-934dd0c29e05",
   "metadata": {},
   "outputs": [],
   "source": [
    "Ypred = regressor.predict(X_test)\n",
    "from sklearn.metrics import accuracy_score\n",
    "r2_score(Y_test, Ypred)"
   ]
  },
  {
   "cell_type": "code",
   "execution_count": null,
   "id": "92d1df9e-468e-4b01-99a0-6c0728d697a1",
   "metadata": {},
   "outputs": [],
   "source": [
    "from keras.wrappers.scikit_learn import KerasRegressor\n",
    "from sklearn.model_selection import GridSearchCV\n",
    "from keras.models import Sequential\n",
    "from keras.layers import Dense"
   ]
  },
  {
   "cell_type": "code",
   "execution_count": null,
   "id": "8ba071a6-188d-486f-8347-a87895fc6afd",
   "metadata": {},
   "outputs": [],
   "source": []
  },
  {
   "cell_type": "code",
   "execution_count": null,
   "id": "7a4b628c-335a-4515-8555-a556399df188",
   "metadata": {},
   "outputs": [],
   "source": [
    "model = Sequential()\n",
    "model.add(Dense(units = 48, kernel_initializer = 'uniform', activation = 'relu', input_dim = 24))\n",
    "model.add(Dense(units = 24, kernel_initializer = 'uniform', activation = 'relu'))\n",
    "model.add(Dense(units = 10, kernel_initializer = 'uniform', activation = 'relu'))\n",
    "model.add(Dense(units = 1, kernel_initializer = 'uniform', activation = 'sigmoid'))\n",
    "model.compile(optimizer = 'adam', loss = 'mean_squared_error')\n",
    "\n",
    "model.fit(X_train,Y_train,batch_size = 1, epochs = 10)"
   ]
  },
  {
   "cell_type": "code",
   "execution_count": null,
   "id": "90f43524-0f71-49ba-afe2-8b83471a9eac",
   "metadata": {},
   "outputs": [],
   "source": [
    "\n",
    "Y_pred = model.predict(X_test)\n",
    "Y_pred"
   ]
  },
  {
   "cell_type": "code",
   "execution_count": null,
   "id": "43480294-e597-4307-9f13-07b07c637a6b",
   "metadata": {},
   "outputs": [],
   "source": [
    "r2_score(Y_test, Y_pred)"
   ]
  },
  {
   "cell_type": "code",
   "execution_count": null,
   "id": "7eca07be-35a1-4d04-a564-bd2999e0bb72",
   "metadata": {},
   "outputs": [],
   "source": [
    "from sklearn.metrics import confusion_matrix\n",
    "cm = confusion_matrix(Y_test, Y_pred)\n",
    "print(cm)"
   ]
  },
  {
   "cell_type": "code",
   "execution_count": null,
   "id": "4a69c68e-f0ca-4feb-955f-430865c4b64a",
   "metadata": {},
   "outputs": [],
   "source": []
  }
 ],
 "metadata": {
  "kernelspec": {
   "display_name": "Python 3",
   "language": "python",
   "name": "python3"
  },
  "language_info": {
   "codemirror_mode": {
    "name": "ipython",
    "version": 3
   },
   "file_extension": ".py",
   "mimetype": "text/x-python",
   "name": "python",
   "nbconvert_exporter": "python",
   "pygments_lexer": "ipython3",
   "version": "3.9.4"
  }
 },
 "nbformat": 4,
 "nbformat_minor": 5
}
