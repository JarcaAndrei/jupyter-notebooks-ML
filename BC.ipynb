{
 "cells": [
  {
   "cell_type": "code",
   "execution_count": 1,
   "id": "18bcad7d-b114-4f59-a859-437747812dbf",
   "metadata": {},
   "outputs": [],
   "source": [
    "import numpy as np\n",
    "import matplotlib.pyplot as plt\n",
    "import pandas as pd\n",
    "import os\n",
    "from __future__ import print_function\n",
    "np.random.seed(0)\n",
    "import sys\n",
    "import sklearn\n",
    "import sklearn.ensemble\n",
    "%load_ext autoreload\n",
    "%autoreload 2\n",
    "from anchor import utils\n",
    "from anchor import anchor_tabular"
   ]
  },
  {
   "cell_type": "code",
   "execution_count": 133,
   "id": "c74ef170-bb41-491a-9865-02edd12419fa",
   "metadata": {},
   "outputs": [],
   "source": [
    "menop={\"premeno\":\"no\",\"ge40\":'after40',\"lt40\":\"before40\"}\n",
    "\n",
    "#vec={'blabla':'0-2', 'xx':'3.5', 'fwqf':'6-8', 'asgasg':'9-11', 'sagasggas':'12-14', 'asgasgsag':'15-17', 'axcwq':'18-20', 'wqgfasg':'21-23', '24-26':'24-26', \n",
    "#     '27-29':'27-29', '30-32':'30-32', '33-35':'33-35', '36-39':'36-39'}\n",
    "transf={\n",
    "    2:lambda x:map_array_values(x,menop),\n",
    "    #4:lambda x:map_array_values(x,vec),\n",
    "}"
   ]
  },
  {
   "cell_type": "code",
   "execution_count": 2,
   "id": "d15af123-edad-46da-a110-afabb5d3e29e",
   "metadata": {},
   "outputs": [],
   "source": [
    "menopause = set([\"premeno\", \"ge40\", \"lt40\"])\n",
    "inv_nodes = set([\"0-2\", \"3-5\", \"6-8\", \"9-11\", \"12-14\", \"15-17\", \"18-20\", \"21-23\", \"24-26\",\n",
    "                 \"27-29\", \"30-32\", \"33-35\", \"36-39\"])\n",
    "def map_array_values(array, value_map):\n",
    "    # value map must be { src : target }\n",
    "    ret = array.copy()\n",
    "    for src, target in value_map.items():\n",
    "        ret[ret == src] = target\n",
    "    return ret\n",
    "def violations_fn(x):\n",
    "    x = x.astype(float)\n",
    "    d = np.digitize(x, [0, 5, float('inf')],right=True).astype('|S128')\n",
    "    return map_array_values(d, {'1': 'low degree', '2': 'medium degree', '3': 'high degree'})\n",
    "irrad = {\n",
    "        'yes':'da',\n",
    "        'no':'nu'\n",
    "}\n",
    "transf = {\n",
    "            2:  lambda x: np.array([y in menopause for y in x]).astype(float),\n",
    "            4:  lambda x: np.array([y in inv_nodes for y in x]).astype(float),\n",
    "        }"
   ]
  },
  {
   "cell_type": "code",
   "execution_count": 3,
   "id": "f95b2865-bc5d-48aa-8659-ffeea5b92829",
   "metadata": {},
   "outputs": [],
   "source": [
    "\n",
    "dataset = utils.load_csv_dataset(os.path.join('/home/ml/pylab','adult/adult.data'),0,',',['Class','Age','Menopause','Tumor-size','Inv-nodes_Lymph-nodes','Node-caps','Degree-malignancy','Breast','Breast-quad','Irradiat']\n",
    "                                                ,[1,3,5,6,9], [1,2,3,4,5,6,9],transf,True)\n",
    "#dataset = utils.load_csv_dataset(os.path.join('/home/ml/pylab','adult/adult.data'),0,',',['Class','Age','Menopause','Tumor-size','Inv-nodes','Node-caps','Deg-malig','Breast','Breast-quad','Irradiat']\n",
    "#                                                ,None, None,None,True,False)\n"
   ]
  },
  {
   "cell_type": "code",
   "execution_count": 319,
   "id": "16766ff1-a458-416c-a6d9-8bc944a84075",
   "metadata": {},
   "outputs": [],
   "source": [
    "dataset = utils.load_csv_dataset(os.path.join('/home/ml/pylab','adult/adult.data'),0,',',['Class','Age','Menopause','Tumor-size','Inv-nodes','Node-caps','Deg-malig','Breast','Breast-quad','Irradiat']\n",
    "                                                ,[1,2,3,4,5,6,7,8,9], [1,2,3,4,5,6,7,8,9],transf,True)"
   ]
  },
  {
   "cell_type": "code",
   "execution_count": 222,
   "id": "a85d802e-8534-409e-869f-4e0a2dca118f",
   "metadata": {},
   "outputs": [],
   "source": [
    "dataset = utils.load_csv_dataset(os.path.join('/home/ml/pylab','adult/adult.data'),0,',',['Class','Age','Menopause','Tumor-size','Inv-nodes','Node-caps','Deg-malig','Breast','Breast-quad','Irradiat']\n",
    "                                                ,[1,2,3,4,5,6,9], [1,2,3,4,5,6,9],transf,True,True)"
   ]
  },
  {
   "cell_type": "code",
   "execution_count": 227,
   "id": "97da5e5f-8de9-404a-94b8-631e75614127",
   "metadata": {},
   "outputs": [],
   "source": [
    "dataset = utils.load_csv_dataset(os.path.join('/home/ml/pylab','adult/adult.data'),0,',',['Class','Age','Menopause','Tumor-size','Inv-nodes','Node-caps','Deg-malig','Breast','Breast-quad','Irradiat']\n",
    "                                                ,[1,2,3,4,5,6,7,8,9],[1,2,3,4,5,6,7,8,9],feature_transformations=transf)"
   ]
  },
  {
   "cell_type": "code",
   "execution_count": 4,
   "id": "1dabce53-735a-491e-9e7f-ce0a29e3ae48",
   "metadata": {},
   "outputs": [
    {
     "name": "stdout",
     "output_type": "stream",
     "text": [
      "Train 0.9035087719298246\n",
      "Test 0.7241379310344828\n"
     ]
    }
   ],
   "source": [
    "c = sklearn.ensemble.RandomForestClassifier(n_estimators=50, n_jobs=5)\n",
    "c.fit(dataset.train, dataset.labels_train)\n",
    "print('Train', sklearn.metrics.accuracy_score(dataset.labels_train, c.predict(dataset.train)))\n",
    "print('Test', sklearn.metrics.accuracy_score(dataset.labels_test, c.predict(dataset.test)))"
   ]
  },
  {
   "cell_type": "code",
   "execution_count": 20,
   "id": "8dfdcc7a-9554-4bc1-a17b-7913729a844a",
   "metadata": {},
   "outputs": [
    {
     "data": {
      "text/plain": [
       "KNeighborsClassifier(n_neighbors=4, p=10)"
      ]
     },
     "execution_count": 20,
     "metadata": {},
     "output_type": "execute_result"
    }
   ],
   "source": [
    "from sklearn.neighbors import KNeighborsClassifier\n",
    "cl= KNeighborsClassifier(n_neighbors = 4, p = 10)\n",
    "cl.fit(dataset.train, dataset.labels_train)"
   ]
  },
  {
   "cell_type": "code",
   "execution_count": 5,
   "id": "2f1aa098-8277-4445-812a-d4c088a29bfd",
   "metadata": {},
   "outputs": [],
   "source": [
    "explainer = anchor_tabular.AnchorTabularExplainer(\n",
    "    dataset.class_names,\n",
    "    dataset.feature_names,\n",
    "    dataset.train,\n",
    "    dataset.categorical_names)"
   ]
  },
  {
   "cell_type": "code",
   "execution_count": 7,
   "id": "678af1a9-e3c4-4fc2-8fe1-c5920007269e",
   "metadata": {},
   "outputs": [],
   "source": [
    "q=[]\n",
    "q=[i for i in range(14)]+[i for i in range(271,286)]\n",
    "dataset.test_idx=np.array(q,dtype='int')#indicii 29"
   ]
  },
  {
   "cell_type": "code",
   "execution_count": 8,
   "id": "698ed311-f37e-4108-8fbe-8fc4280d47ab",
   "metadata": {},
   "outputs": [
    {
     "data": {
      "text/plain": [
       "array([  0,   1,   2,   3,   4,   5,   6,   7,   8,   9,  10,  11,  12,\n",
       "        13, 271, 272, 273, 274, 275, 276, 277, 278, 279, 280, 281, 282,\n",
       "       283, 284, 285])"
      ]
     },
     "execution_count": 8,
     "metadata": {},
     "output_type": "execute_result"
    }
   ],
   "source": [
    "dataset.test_idx"
   ]
  },
  {
   "cell_type": "code",
   "execution_count": 10,
   "id": "4ecf63e3-18f5-42ad-b5ee-256d643c9a4b",
   "metadata": {},
   "outputs": [
    {
     "data": {
      "text/plain": [
       "array([3., 0., 5., 0., 1., 2., 0.])"
      ]
     },
     "execution_count": 10,
     "metadata": {},
     "output_type": "execute_result"
    }
   ],
   "source": [
    "dataset.test[28]"
   ]
  },
  {
   "cell_type": "code",
   "execution_count": 9,
   "id": "88799d77-e323-4ca9-9c46-0ba3836bc880",
   "metadata": {},
   "outputs": [],
   "source": [
    "for i in range(0,14):\n",
    "    dataset.test[i]=dataset.data[i]\n",
    "t=14\n",
    "for i in range(271,286):\n",
    "    dataset.test[t]=dataset.data[i]\n",
    "    t+=1"
   ]
  },
  {
   "cell_type": "code",
   "execution_count": 11,
   "id": "9254ad8e-6669-4b13-bde3-989dd75f7c5d",
   "metadata": {},
   "outputs": [
    {
     "data": {
      "text/plain": [
       "array([3., 0., 5., 0., 1., 2., 0.])"
      ]
     },
     "execution_count": 11,
     "metadata": {},
     "output_type": "execute_result"
    }
   ],
   "source": [
    "dataset.data[285]"
   ]
  },
  {
   "cell_type": "code",
   "execution_count": 17,
   "id": "6006802a-16d4-4353-a456-0bd7c73077e8",
   "metadata": {},
   "outputs": [
    {
     "name": "stdout",
     "output_type": "stream",
     "text": [
      "Prediction:  b'recurrence-events'\n"
     ]
    }
   ],
   "source": [
    "idx = -1\n",
    "np.random.seed(0)\n",
    "print('Prediction: ', explainer.class_names[c.predict(dataset.test[idx].reshape(1, -1))[0]])\n",
    "exp = explainer.explain_instance(dataset.test[idx], c.predict, threshold=0.95)"
   ]
  },
  {
   "cell_type": "code",
   "execution_count": 23,
   "id": "cc5516ba-3d89-428c-8d13-b111ba7df289",
   "metadata": {},
   "outputs": [
    {
     "name": "stdout",
     "output_type": "stream",
     "text": [
      "Prediction:  b'recurrence-events'\n"
     ]
    }
   ],
   "source": [
    "idx = -1\n",
    "np.random.seed(0)\n",
    "print('Prediction: ', explainer.class_names[cl.predict(dataset.test[idx].reshape(1, -1))[0]])\n",
    "exp = explainer.explain_instance(dataset.test[idx], cl.predict, threshold=0.95)"
   ]
  },
  {
   "cell_type": "code",
   "execution_count": 24,
   "id": "6c1fc26f-a005-4326-8697-4488643e9419",
   "metadata": {},
   "outputs": [
    {
     "name": "stdout",
     "output_type": "stream",
     "text": [
      "Anchor: Tumor-size = 30-34 AND Degree-malignancy = 3 AND Age = 50-59 AND Node-caps = no\n",
      "Precision: 1.00\n",
      "Coverage: 0.03\n"
     ]
    }
   ],
   "source": [
    "print('Anchor: %s' % (' AND '.join(exp.names())))\n",
    "print('Precision: %.2f' % exp.precision())\n",
    "print('Coverage: %.2f' % exp.coverage())"
   ]
  },
  {
   "cell_type": "code",
   "execution_count": 14,
   "id": "c39e21c8-9356-46df-ad65-ac23e0927eaa",
   "metadata": {},
   "outputs": [
    {
     "name": "stdout",
     "output_type": "stream",
     "text": [
      "Anchor test precision: 1.00\n",
      "Anchor test coverage: 0.03\n"
     ]
    }
   ],
   "source": [
    "\n",
    "# Get test examples where the anchora pplies\n",
    "fit_anchor = np.where(np.all(dataset.test[:, exp.features()] == dataset.test[idx][exp.features()], axis=1))[0]\n",
    "print('Anchor test precision: %.2f' % (np.mean(c.predict(dataset.test[fit_anchor]) == c.predict(dataset.test[idx].reshape(1, -1)))))\n",
    "print('Anchor test coverage: %.2f' % (fit_anchor.shape[0] / float(dataset.test.shape[0])))"
   ]
  },
  {
   "cell_type": "code",
   "execution_count": null,
   "id": "5b404127-b1b0-46d7-b60f-ab6067065d30",
   "metadata": {},
   "outputs": [],
   "source": [
    "dataset = utils.load_dataset('adult', balance=True,  dataset_folder='/home/ml/pylab',discretize=True)\n"
   ]
  },
  {
   "cell_type": "code",
   "execution_count": null,
   "id": "819828dd-4a1c-46b8-bdeb-afcce717d09a",
   "metadata": {},
   "outputs": [],
   "source": [
    "\n",
    "dataset = utils.load_dataset('adult', balance=True,  dataset_folder='/home/ml/pylab',discretize=True)\n",
    "#dataset = pd.read_csv(\"breast-cancer.csv\",header=None)"
   ]
  },
  {
   "cell_type": "code",
   "execution_count": null,
   "id": "fc569862-c094-4612-8010-3b14766cfadd",
   "metadata": {},
   "outputs": [],
   "source": [
    "dataset"
   ]
  },
  {
   "cell_type": "code",
   "execution_count": null,
   "id": "8ad840b3-4374-4f89-b22a-7c239d18a23a",
   "metadata": {},
   "outputs": [],
   "source": [
    "dataset.dtypes"
   ]
  },
  {
   "cell_type": "code",
   "execution_count": null,
   "id": "189d05dc-9030-4755-97dc-45d4641f1b83",
   "metadata": {},
   "outputs": [],
   "source": [
    "df=dataset.apply(lambda x: x.astype('category'))  "
   ]
  },
  {
   "cell_type": "code",
   "execution_count": null,
   "id": "8e66c6c8-970b-47d2-ac82-2c23001576b8",
   "metadata": {},
   "outputs": [],
   "source": [
    "df.dtypes"
   ]
  },
  {
   "cell_type": "code",
   "execution_count": null,
   "id": "95db625a-3bfd-41c0-ab59-afef834822b4",
   "metadata": {},
   "outputs": [],
   "source": [
    "df.describe().T"
   ]
  },
  {
   "cell_type": "code",
   "execution_count": null,
   "id": "e4f42810-34c0-4d19-b625-27267f6eb391",
   "metadata": {},
   "outputs": [],
   "source": [
    "df.columns"
   ]
  },
  {
   "cell_type": "code",
   "execution_count": null,
   "id": "82c3bc90-b056-486a-8942-b24637de68a6",
   "metadata": {},
   "outputs": [],
   "source": [
    "from sklearn.preprocessing import LabelEncoder# creating initial dataframe\n",
    "labelencoder = LabelEncoder()# Assigning numerical values and storing in another column\n"
   ]
  },
  {
   "cell_type": "code",
   "execution_count": null,
   "id": "3f72cc87-dd0f-45dc-88d3-b5b3ac88243e",
   "metadata": {},
   "outputs": [],
   "source": [
    "df1=df.apply(lambda x: labelencoder.fit_transform(x) )"
   ]
  },
  {
   "cell_type": "code",
   "execution_count": null,
   "id": "76d8ccdd-2838-4fff-a4f2-8a4a8655a1f2",
   "metadata": {},
   "outputs": [],
   "source": [
    "df1"
   ]
  },
  {
   "cell_type": "code",
   "execution_count": null,
   "id": "3b9a29a6-fa12-4d61-8eae-ced986fa1fc2",
   "metadata": {},
   "outputs": [],
   "source": [
    "df1.hist()"
   ]
  },
  {
   "cell_type": "code",
   "execution_count": null,
   "id": "1cf6ef50-6423-4c63-b800-88e286e11767",
   "metadata": {},
   "outputs": [],
   "source": [
    "df1.isnull().sum()\n",
    "df1.isna().sum()"
   ]
  },
  {
   "cell_type": "code",
   "execution_count": null,
   "id": "f68a4c6b-dbf3-47d0-9c5f-f7cd5af804eb",
   "metadata": {},
   "outputs": [],
   "source": [
    "X=df1[df1.columns[1:10]]\n",
    "Y=df1[df1.columns[0]]"
   ]
  },
  {
   "cell_type": "code",
   "execution_count": null,
   "id": "4fa7a268-91b8-4a36-9847-74660f6e3d81",
   "metadata": {},
   "outputs": [],
   "source": [
    "# Splitting the dataset into the Training set and Test set\n",
    "from sklearn.model_selection import train_test_split\n",
    "X_train, X_test, Y_train, Y_test = train_test_split(X, Y, test_size = 0.25, random_state = 0)"
   ]
  },
  {
   "cell_type": "code",
   "execution_count": null,
   "id": "9684d3b1-b8d4-4ed6-bccf-b20ee4c0ec20",
   "metadata": {},
   "outputs": [],
   "source": [
    "#Feature Scaling\n",
    "from sklearn.preprocessing import StandardScaler\n",
    "sc = StandardScaler()\n",
    "X_train = sc.fit_transform(X_train)\n",
    "X_test = sc.transform(X_test)"
   ]
  },
  {
   "cell_type": "code",
   "execution_count": null,
   "id": "9141cbde-7ff7-445d-a7dd-dbd46d57533b",
   "metadata": {},
   "outputs": [],
   "source": [
    "\n",
    "ac=[]\n",
    "#Using Logistic Regression Algorithm to the Training Set\n",
    "from sklearn.linear_model import LogisticRegression\n",
    "classifier = LogisticRegression(random_state = 0)\n",
    "classifier.fit(X_train, Y_train)\n",
    "\n",
    "Y_pred = classifier.predict(X_test)\n",
    "from sklearn.metrics import accuracy_score\n",
    "ac.append(accuracy_score(Y_test, Y_pred))\n",
    "ac"
   ]
  },
  {
   "cell_type": "code",
   "execution_count": null,
   "id": "7b2c520c-b425-4d13-9039-5cfdbf02a0ea",
   "metadata": {},
   "outputs": [],
   "source": [
    "from sklearn.neighbors import KNeighborsClassifier\n",
    "cl= KNeighborsClassifier(n_neighbors = 4, p = 10)\n",
    "cl.fit(X_train, Y_train)\n",
    "\n",
    "Y_pred = cl.predict(X_test)\n",
    "from sklearn.metrics import accuracy_score\n",
    "ac.append(accuracy_score(Y_test, Y_pred))\n",
    "ac"
   ]
  },
  {
   "cell_type": "code",
   "execution_count": null,
   "id": "91df61a7-c6fc-413e-88d5-e5f3e9615bfc",
   "metadata": {},
   "outputs": [],
   "source": [
    "from sklearn.svm import SVC\n",
    "classifier = SVC(kernel = 'rbf', random_state = 0)\n",
    "classifier.fit(X_train, Y_train)\n",
    "Y_pred = classifier.predict(X_test)\n",
    "\n",
    "from sklearn.metrics import accuracy_score\n",
    "ac.append(accuracy_score(Y_test, Y_pred))"
   ]
  },
  {
   "cell_type": "code",
   "execution_count": null,
   "id": "aad55bcd-3f31-451d-bafa-5b476d0a8cd0",
   "metadata": {},
   "outputs": [],
   "source": [
    "from sklearn.naive_bayes import GaussianNB\n",
    "classifier = GaussianNB()\n",
    "classifier.fit(X_train, Y_train)\n",
    "\n",
    "Y_pred = classifier.predict(X_test)\n",
    "from sklearn.metrics import accuracy_score\n",
    "ac.append(accuracy_score(Y_test, Y_pred))"
   ]
  },
  {
   "cell_type": "code",
   "execution_count": null,
   "id": "0a93019f-b029-4faa-a1c0-fd2d49777412",
   "metadata": {},
   "outputs": [],
   "source": [
    "from sklearn.tree import DecisionTreeClassifier\n",
    "classifier = DecisionTreeClassifier()\n",
    "classifier.fit(X_train, Y_train)\n",
    "\n",
    "Y_pred = classifier.predict(X_test)\n",
    "from sklearn.metrics import accuracy_score\n",
    "ac.append(accuracy_score(Y_test, Y_pred))"
   ]
  },
  {
   "cell_type": "code",
   "execution_count": null,
   "id": "48e87183-4075-421e-9d07-7279f336cd9d",
   "metadata": {},
   "outputs": [],
   "source": [
    "#ac=[]\n",
    "from sklearn.ensemble import RandomForestClassifier\n",
    "classifier = RandomForestClassifier(n_estimators = 10, random_state = 0)\n",
    "classifier.fit(X_train, Y_train)\n",
    "\n",
    "Y_pred = classifier.predict(X_test)\n",
    "from sklearn.metrics import accuracy_score\n",
    "ac.append(accuracy_score(Y_test, Y_pred))"
   ]
  },
  {
   "cell_type": "code",
   "execution_count": null,
   "id": "0e4b2275-69a9-4bc7-a9e8-41e60b3141b1",
   "metadata": {},
   "outputs": [],
   "source": [
    "from keras.wrappers.scikit_learn import KerasClassifier\n",
    "from sklearn.model_selection import GridSearchCV\n",
    "from keras.models import Sequential\n",
    "from keras.layers import Dense\n",
    "\n",
    "def build_classifier(optimizer):\n",
    "    classifier = Sequential()\n",
    "    classifier.add(Dense(units = 14, kernel_initializer = 'uniform', activation = 'relu', input_dim = 9))\n",
    "    classifier.add(Dense(units = 12, kernel_initializer = 'uniform', activation = 'relu'))\n",
    "    classifier.add(Dense(units = 10, kernel_initializer = 'uniform', activation = 'relu'))\n",
    "    classifier.add(Dense(units = 5, kernel_initializer = 'uniform', activation = 'relu'))\n",
    "    classifier.add(Dense(units = 1, kernel_initializer = 'uniform', activation = 'sigmoid'))\n",
    "    classifier.compile(optimizer = optimizer, loss = 'binary_crossentropy', metrics = ['accuracy'])\n",
    "    return classifier\n",
    "\n",
    "classifier =  build_classifier('rmsprop')\n",
    "\n",
    "classifier.fit(X_train, Y_train,batch_size = 1, epochs = 20)\n",
    "Y_pred=(classifier.predict(X_test) > 0.5).astype(\"int32\")\n",
    "ac.append(accuracy_score(Y_test, Y_pred))"
   ]
  },
  {
   "cell_type": "code",
   "execution_count": null,
   "id": "ddac720a-0e96-495d-9280-63557f571abf",
   "metadata": {},
   "outputs": [],
   "source": [
    "#validation accuracy\n",
    "ac"
   ]
  },
  {
   "cell_type": "code",
   "execution_count": null,
   "id": "42bf34de-169c-46bc-b040-29dd4aaacafa",
   "metadata": {},
   "outputs": [],
   "source": [
    "mv=max(ac)\n",
    "listMaxIndex=[i for i, j in enumerate(ac) if j == mv]"
   ]
  },
  {
   "cell_type": "code",
   "execution_count": null,
   "id": "08564093-3529-40d0-a854-0d22b0c57335",
   "metadata": {},
   "outputs": [],
   "source": [
    "algoList=['LogReg','KNN','SVC','GaussNB','DT','RF','NN']"
   ]
  },
  {
   "cell_type": "code",
   "execution_count": null,
   "id": "7f752b08-b5c9-4c4b-957b-f61f9d6b67d7",
   "metadata": {},
   "outputs": [],
   "source": [
    "[algoList[i] for i in listMaxIndex]\n"
   ]
  },
  {
   "cell_type": "code",
   "execution_count": null,
   "id": "c25cdad4-9d0d-49a8-b6db-e03e136aa0cb",
   "metadata": {},
   "outputs": [],
   "source": [
    "max(ac)"
   ]
  },
  {
   "cell_type": "code",
   "execution_count": null,
   "id": "7ab715e7-693d-4895-8450-8e4c4b99d25f",
   "metadata": {},
   "outputs": [],
   "source": [
    "explainer = anchor_tabular.AnchorTabularExplainer(\n",
    "    dataset.class_names,\n",
    "    dataset.feature_names,\n",
    "    dataset.train,\n",
    "    dataset.categorical_names)"
   ]
  },
  {
   "cell_type": "code",
   "execution_count": null,
   "id": "c275f84e-bb3d-45c8-9b9f-b27e38b3dfbb",
   "metadata": {},
   "outputs": [],
   "source": []
  },
  {
   "cell_type": "code",
   "execution_count": null,
   "id": "71a3d1ac-eb19-48b5-9feb-782d591d29c1",
   "metadata": {},
   "outputs": [],
   "source": []
  }
 ],
 "metadata": {
  "kernelspec": {
   "display_name": "Python 3",
   "language": "python",
   "name": "python3"
  },
  "language_info": {
   "codemirror_mode": {
    "name": "ipython",
    "version": 3
   },
   "file_extension": ".py",
   "mimetype": "text/x-python",
   "name": "python",
   "nbconvert_exporter": "python",
   "pygments_lexer": "ipython3",
   "version": "3.9.4"
  }
 },
 "nbformat": 4,
 "nbformat_minor": 5
}
